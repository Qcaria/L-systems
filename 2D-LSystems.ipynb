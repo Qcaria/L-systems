{
 "cells": [
  {
   "cell_type": "code",
   "execution_count": 1,
   "metadata": {},
   "outputs": [
    {
     "name": "stdout",
     "output_type": "stream",
     "text": [
      "pygame 1.9.6\n",
      "Hello from the pygame community. https://www.pygame.org/contribute.html\n"
     ]
    }
   ],
   "source": [
    "import pygame\n",
    "import math\n",
    "PI = math.pi\n",
    "WHITE = (255, 255, 255)\n",
    "\n",
    "def grow(phrase, rules):\n",
    "    new_phrase = ''\n",
    "    for i in range(len(phrase)):\n",
    "        if phrase[i] in rules:\n",
    "            new_phrase += rules[phrase[i]]\n",
    "        else:\n",
    "            new_phrase += phrase[i]\n",
    "    return new_phrase\n",
    "\n",
    "class Turtle():\n",
    "    def __init__(self, display, code, pos, phi):\n",
    "        self.pos = complex(pos[0], pos[1])\n",
    "        self.dir = complex(math.cos(phi), -math.sin(phi))\n",
    "        self.display = display\n",
    "        self.code = code\n",
    "        self.memo = []\n",
    "        \n",
    "    def __call__(self, phrase):\n",
    "        for char in phrase:\n",
    "            if char in self.code:\n",
    "                for instruction in code[char]:\n",
    "                    method_name = instruction[0]\n",
    "                    getattr(self, method_name)(*instruction[1::])\n",
    "    \n",
    "    def forward(self, distance, width = 1, color = WHITE):\n",
    "        end_position = self.pos+distance*self.dir\n",
    "        pygame.draw.line(self.display, color, (self.pos.real, self.pos.imag), (end_position.real, end_position.imag), width)\n",
    "        self.pos = end_position\n",
    "        \n",
    "    def rotate(self, phi):\n",
    "        self.dir *= complex(math.cos(phi), -math.sin(phi))\n",
    "        \n",
    "    def push(self):\n",
    "        self.memo.append((self.pos, self.dir))\n",
    "        \n",
    "    def pop(self):\n",
    "        self.pos, self.dir = self.memo.pop()\n",
    "        \n",
    "    "
   ]
  },
  {
   "cell_type": "code",
   "execution_count": 2,
   "metadata": {},
   "outputs": [],
   "source": [
    "pygame.init()\n",
    "mainClock = pygame.time.Clock()\n",
    "\n",
    "size = [700, 500]\n",
    "window = pygame.display.set_mode(size)\n",
    "\n",
    "phi = PI/2\n",
    "pos = (size[0]/2, size[1])\n",
    "\n",
    "code = {'F': [['forward', 7]], '[': [['push']], ']': [['pop']], '+': [['rotate', 25*PI/180]], '-': [['rotate', -25*PI/180]]}\n",
    "phrase = 'F'  #INITIAL PHRASE\n",
    "rules = {'F':'FF+[+F-F-F]-[-F+F+F]'}\n",
    "n = 4  #ITERATIONS OVER THE PHRASE \n",
    "\n",
    "for i in range(n):\n",
    "    phrase = grow(phrase, rules)\n",
    "\n",
    "Turt = Turtle(window, code, pos, phi)\n",
    "loop = True\n",
    "\n",
    "while loop:\n",
    "    Turt.push()\n",
    "    for event in pygame.event.get():\n",
    "        if event.type == pygame.QUIT:\n",
    "            loop = False\n",
    "            \n",
    "    window.fill((51, 51, 51))\n",
    "    \n",
    "    Turt(phrase)\n",
    "    Turt.pop()\n",
    "    \n",
    "    pygame.display.flip()\n",
    "    mainClock.tick(10)\n",
    "\n",
    "pygame.quit()"
   ]
  },
  {
   "cell_type": "markdown",
   "metadata": {},
   "source": [
    "## COOL PLANT"
   ]
  },
  {
   "cell_type": "code",
   "execution_count": null,
   "metadata": {},
   "outputs": [],
   "source": [
    "code = {'F': [['forward', 3, 2]], '[': [['push']], ']': [['pop']], '+': [['rotate', 25*PI/180]], '-': [['rotate', -25*PI/180]]}\n",
    "phrase = 'X'  #INITIAL PHRASE\n",
    "rules = {'X':'F+[[X]-X]-F[-FX]+X', 'F':'FF'}\n",
    "n = 6  #ITERATIONS OVER THE PHRASE"
   ]
  },
  {
   "cell_type": "markdown",
   "metadata": {},
   "source": [
    "## COOL PLANT 2"
   ]
  },
  {
   "cell_type": "code",
   "execution_count": null,
   "metadata": {},
   "outputs": [],
   "source": [
    "phrase = 'F'  #SAME CODE AS COOL PLANT\n",
    "rules = {'F':'FF+[+F-F-F]-[-F+F+F]'}\n",
    "n = 4 "
   ]
  },
  {
   "cell_type": "markdown",
   "metadata": {},
   "source": [
    "## TREE"
   ]
  },
  {
   "cell_type": "code",
   "execution_count": null,
   "metadata": {},
   "outputs": [],
   "source": [
    "code = {'0': [['forward', 10]], '1': [['forward', 10]], '[': [['push'], ['rotate', PI/4]], ']': [['pop'], ['rotate', -PI/4]]}\n",
    "phrase = '0'\n",
    "rules = {'1':'11', '0':'1[0]0'}"
   ]
  },
  {
   "cell_type": "markdown",
   "metadata": {},
   "source": [
    "## SIARPINSKI TRIANGLE"
   ]
  },
  {
   "cell_type": "code",
   "execution_count": null,
   "metadata": {},
   "outputs": [],
   "source": [
    "code = {'F': [['forward', 5]], 'G': [['forward', 5]], '[': [['push']], ']': [['pop']], '+': [['rotate', -2*PI/3]], '-': [['rotate', 2*PI/3]]}\n",
    "phrase = 'F-G-G' \n",
    "rules = {'F':'F-G+F+G-F', 'G':'GG'}\n",
    "n = 6  "
   ]
  }
 ],
 "metadata": {
  "kernelspec": {
   "display_name": "Python 3",
   "language": "python",
   "name": "python3"
  },
  "language_info": {
   "codemirror_mode": {
    "name": "ipython",
    "version": 3
   },
   "file_extension": ".py",
   "mimetype": "text/x-python",
   "name": "python",
   "nbconvert_exporter": "python",
   "pygments_lexer": "ipython3",
   "version": "3.7.4"
  }
 },
 "nbformat": 4,
 "nbformat_minor": 2
}
